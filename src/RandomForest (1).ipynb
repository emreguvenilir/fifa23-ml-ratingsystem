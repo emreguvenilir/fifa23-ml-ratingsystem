{
 "cells": [
  {
   "cell_type": "code",
   "execution_count": 1,
   "id": "c2d1be98-c2c3-4f94-95b4-1b0f6330f956",
   "metadata": {},
   "outputs": [
    {
     "name": "stderr",
     "output_type": "stream",
     "text": [
      "/tmp/ipykernel_2871809/4223812721.py:12: DtypeWarning: Columns (108) have mixed types. Specify dtype option on import or set low_memory=False.\n",
      "  fifa_players = pd.read_csv('male_players.csv')\n"
     ]
    }
   ],
   "source": [
    "import pandas as pd\n",
    "from thefuzz import process\n",
    "import pandas as pd\n",
    "from sklearn.model_selection import train_test_split\n",
    "from sklearn.metrics import mean_absolute_error, mean_squared_error, r2_score\n",
    "from sklearn.compose import ColumnTransformer\n",
    "from sklearn.preprocessing import OneHotEncoder\n",
    "from sklearn.pipeline import Pipeline\n",
    "import numpy as np\n",
    "\n",
    "# Load the first CSV file into a DataFrame\n",
    "fifa_players = pd.read_csv('male_players.csv')\n",
    "\n",
    "combined_player_stats = pd.read_csv(\"filtered_combined_player_stats.csv\")"
   ]
  },
  {
   "cell_type": "code",
   "execution_count": 2,
   "id": "62fe9256-39b3-4a4b-94e1-b151693fedca",
   "metadata": {},
   "outputs": [
    {
     "name": "stdout",
     "output_type": "stream",
     "text": [
      "2880\n"
     ]
    }
   ],
   "source": [
    "#league_id \n",
    "#LaLiga - 53\n",
    "#Prem - 13\n",
    "#Bundesliga - 19\n",
    "#Serie A - 31\n",
    "#Ligue 1 - 16\n",
    "\n",
    "filtered_fifa_players = fifa_players[fifa_players['league_id'].isin([53, 13, 19, 31, 16])]\n",
    "\n",
    "fifa23_players = filtered_fifa_players[filtered_fifa_players['fifa_version'].isin([23])]\n",
    "fifa23_players.head()\n",
    "print(fifa23_players.shape[0])"
   ]
  },
  {
   "cell_type": "code",
   "execution_count": 3,
   "id": "6961b087-60e3-4ff8-aa6e-c137fc0e45e6",
   "metadata": {},
   "outputs": [],
   "source": [
    "known_names = fifa23_players['long_name']\n",
    "\n",
    "# Add a new column called 'rating' to the player_stats DataFrame\n",
    "combined_player_stats['rating'] = None\n",
    "\n",
    "# Loop through each corrupted name in the player_stats DataFrame\n",
    "for idx, name in enumerate(combined_player_stats['Player']):\n",
    "    # Find the best match from the list of known names\n",
    "    best_match = process.extractOne(name, known_names)\n",
    "    if best_match is not None:\n",
    "        matched_name = best_match[0]\n",
    "        rating = fifa23_players.loc[fifa23_players['long_name'] == matched_name, 'overall'].iloc[0]\n",
    "        combined_player_stats.at[idx, 'rating'] = rating\n",
    "        # Additional checks\n",
    "        squad = combined_player_stats.at[idx, 'Squad']\n",
    "        born_year = combined_player_stats.at[idx, 'Born']\n",
    "        # Find the matched player's info\n",
    "        matched_player = fifa23_players[fifa23_players['long_name'] == matched_name]\n",
    "        if not matched_player.empty:\n",
    "            matched_squad = matched_player['club_name'].iloc[0]\n",
    "            matched_born_year = int(matched_player['dob'].iloc[0].split('-')[0])\n",
    "            if born_year == matched_born_year:\n",
    "                combined_player_stats.at[idx, 'rating'] = rating/99\n",
    "                #print(best_match)\n",
    "                #print(f\"Matched name: {name}, Best match: {matched_name}, Rating: {rating}\")\n",
    "                #print(f\"Squad and birth year matched for {name}\")\n",
    "            else:\n",
    "                combined_player_stats.drop(idx, inplace=True)"
   ]
  },
  {
   "cell_type": "code",
   "execution_count": 4,
   "id": "d3637eee-ba8e-48e3-96d5-058a492f15fb",
   "metadata": {},
   "outputs": [],
   "source": [
    "# Replace NaN values with 0\n",
    "combined_player_stats.fillna(0, inplace=True)\n",
    "#shuffle the players\n",
    "combined_player_stats = combined_player_stats.sample(frac=1).reset_index(drop=True)\n",
    "\n",
    "# Split positions into a list\n",
    "combined_player_stats['Positions_list'] = combined_player_stats['Pos'].str.split(',')\n",
    "\n",
    "# Get unique positions\n",
    "unique_positions = set(position for sublist in combined_player_stats['Positions_list'] for position in sublist)\n",
    "\n",
    "# Create binary indicator variables for each position\n",
    "for position in unique_positions:\n",
    "    combined_player_stats[position] = combined_player_stats['Positions_list'].apply(lambda x: 1 if position in x else 0)\n",
    "\n",
    "# Drop unnecessary columns\n",
    "combined_player_stats.drop(['Positions_list'], axis=1, inplace=True)\n",
    "\n",
    "combined_player_stats.head()\n",
    "\n",
    "# Reorder the columns to make 'rating' the last column\n",
    "columns_ordered = [col for col in combined_player_stats.columns if col != 'rating'] + ['rating']\n",
    "\n",
    "# Reassign the DataFrame with the reordered columns\n",
    "combined_player_stats = combined_player_stats[columns_ordered]\n",
    "\n",
    "# Display the updated DataFrame\n",
    "#combined_player_stats.head()"
   ]
  },
  {
   "cell_type": "code",
   "execution_count": 5,
   "id": "dcc0e4e1-458b-429d-b904-c831ce5a77c5",
   "metadata": {},
   "outputs": [
    {
     "name": "stdout",
     "output_type": "stream",
     "text": [
      "Random Forest Regression Results:\n",
      "Mean Absolute Error (MAE): 0.03292421341767779\n",
      "Mean Squared Error (MSE): 0.0018138508115986987\n",
      "Root Mean Squared Error (RMSE): 0.04258932743773607\n",
      "R-squared (R2): 0.6724508586044002\n"
     ]
    }
   ],
   "source": [
    "from sklearn.ensemble import RandomForestRegressor\n",
    "\n",
    "#random forest without categorical\n",
    "\n",
    "X = combined_player_stats.iloc[1:, 5:-1].values\n",
    "Y = combined_player_stats.iloc[1:, -1].values  # Only the last column, excluding first row\n",
    "\n",
    "X_train, X_test, Y_train, Y_test = train_test_split(X, Y, test_size=0.2, random_state=42)\n",
    "\n",
    "# Define the model\n",
    "model_rf = RandomForestRegressor(random_state=42)\n",
    "\n",
    "# Fit the model\n",
    "model_rf.fit(X_train, Y_train)\n",
    "\n",
    "# Predictions\n",
    "Y_pred_rf = model_rf.predict(X_test)\n",
    "\n",
    "# Compute evaluation metrics\n",
    "mae_rf = mean_absolute_error(Y_test, Y_pred_rf)\n",
    "mse_rf = mean_squared_error(Y_test, Y_pred_rf)\n",
    "rmse_rf = np.sqrt(mse_rf)\n",
    "r2_rf = r2_score(Y_test, Y_pred_rf)\n",
    "\n",
    "# Print evaluation metrics\n",
    "print(\"Random Forest Regression Results:\")\n",
    "print(\"Mean Absolute Error (MAE):\", mae_rf)\n",
    "print(\"Mean Squared Error (MSE):\", mse_rf)\n",
    "print(\"Root Mean Squared Error (RMSE):\", rmse_rf)\n",
    "print(\"R-squared (R2):\", r2_rf)"
   ]
  },
  {
   "cell_type": "code",
   "execution_count": 9,
   "id": "02e543f5-f753-4888-b74c-2ba3b1144766",
   "metadata": {},
   "outputs": [
    {
     "name": "stdout",
     "output_type": "stream",
     "text": [
      "Fitting 5 folds for each of 9 candidates, totalling 45 fits\n",
      "Best Hyperparameters:\n",
      "{'min_samples_split': 16, 'n_estimators': 250}\n",
      "\n",
      "Random Forest Regression Results with Best Hyperparameters:\n",
      "Mean Absolute Error (MAE): 0.03277518134438228\n",
      "Mean Squared Error (MSE): 0.0017722038370401197\n",
      "Root Mean Squared Error (RMSE): 0.042097551437585055\n",
      "R-squared (R2): 0.679971560236065\n"
     ]
    }
   ],
   "source": [
    "from sklearn.model_selection import GridSearchCV\n",
    "from sklearn.ensemble import RandomForestRegressor\n",
    "from sklearn.metrics import make_scorer, mean_absolute_error\n",
    "\n",
    "#random forest hyperparameter tuning, no categorical vars\n",
    "\n",
    "X = combined_player_stats.iloc[1:, 5:-1].values\n",
    "Y = combined_player_stats.iloc[1:, -1].values  # Only the last column, excluding first row\n",
    "\n",
    "X_train, X_test, Y_train, Y_test = train_test_split(X, Y, test_size=0.2, random_state=42)\n",
    "\n",
    "# Define the parameter grid\n",
    "param_grid_rf = {\n",
    "    'n_estimators': [150,200, 250],  # Number of trees in the forest\n",
    "    'min_samples_split': [2,4,16]\n",
    "}\n",
    "\n",
    "# Define the model\n",
    "model_rf = RandomForestRegressor(random_state=42)\n",
    "\n",
    "# Initialize GridSearchCV\n",
    "grid_search_rf = GridSearchCV(estimator=model_rf, param_grid=param_grid_rf, cv=5, scoring='neg_mean_absolute_error', verbose=1)\n",
    "\n",
    "# Fit GridSearchCV to find the best hyperparameters\n",
    "grid_search_rf.fit(X_train, Y_train)\n",
    "\n",
    "# Get the best model and its hyperparameters\n",
    "best_model_rf = grid_search_rf.best_estimator_\n",
    "best_params_rf = grid_search_rf.best_params_\n",
    "\n",
    "# Print the best hyperparameters\n",
    "print(\"Best Hyperparameters:\")\n",
    "print(best_params_rf)\n",
    "\n",
    "# Predictions using the best model\n",
    "Y_pred_rf_best = best_model_rf.predict(X_test)\n",
    "\n",
    "# Compute evaluation metrics with the best model\n",
    "mae_rf_best = mean_absolute_error(Y_test, Y_pred_rf_best)\n",
    "mse_rf_best = mean_squared_error(Y_test, Y_pred_rf_best)\n",
    "rmse_rf_best = np.sqrt(mse_rf_best)\n",
    "r2_rf_best = r2_score(Y_test, Y_pred_rf_best)\n",
    "\n",
    "# Print evaluation metrics with the best model\n",
    "print(\"\\nRandom Forest Regression Results with Best Hyperparameters:\")\n",
    "print(\"Mean Absolute Error (MAE):\", mae_rf_best)\n",
    "print(\"Mean Squared Error (MSE):\", mse_rf_best)\n",
    "print(\"Root Mean Squared Error (RMSE):\", rmse_rf_best)\n",
    "print(\"R-squared (R2):\", r2_rf_best)\n"
   ]
  },
  {
   "cell_type": "code",
   "execution_count": 13,
   "id": "d100a91d-2573-416c-9d38-c4fe78bc9f4a",
   "metadata": {},
   "outputs": [
    {
     "name": "stdout",
     "output_type": "stream",
     "text": [
      "Random Forest Regression Results:\n",
      "Mean Absolute Error (MAE): 0.030640576249188336\n",
      "Mean Squared Error (MSE): 0.0016105503927859735\n",
      "Root Mean Squared Error (RMSE): 0.04013166321978163\n",
      "R-squared (R2): 0.7091632922850852\n"
     ]
    }
   ],
   "source": [
    "#random forest with categorical variables\n",
    "from sklearn.model_selection import GridSearchCV\n",
    "from sklearn.ensemble import RandomForestRegressor\n",
    "from sklearn.metrics import make_scorer, mean_absolute_error\n",
    "\n",
    "combined_player_stats['Squad'] = combined_player_stats['Squad'].astype(str)\n",
    "combined_player_stats['Comp'] = combined_player_stats['Comp'].astype(str)\n",
    "combined_player_stats['Nation'] = combined_player_stats['Nation'].astype(str)\n",
    "#combined_player_stats['Pos'] = combined_player_stats['Pos'].astype(str)\n",
    "\n",
    "# Splitting the data into input (X) and output (Y) variables\n",
    "X = combined_player_stats.iloc[1:, :-1].drop(columns=['Player','Pos'])  # Exclude first row and 'Player' column\n",
    "Y = combined_player_stats.iloc[1:, -1]   # Only the last column, excluding first row\n",
    "\n",
    "# Define categorical columns\n",
    "categorical_cols = ['Squad', 'Comp', 'Nation']\n",
    "\n",
    "# Define the model\n",
    "model_rf = RandomForestRegressor(n_estimators=250,min_samples_split=8,random_state=42)\n",
    "\n",
    "# Define the column transformer including one-hot encoding for categorical columns\n",
    "column_transformer_rf = ColumnTransformer(\n",
    "    [('onehotencoder', OneHotEncoder(handle_unknown='ignore'), categorical_cols)],\n",
    "    remainder='passthrough'\n",
    ")\n",
    "\n",
    "# Create a pipeline with column transformer and random forest regressor\n",
    "pipeline_rf = Pipeline([\n",
    "    ('preprocessor', column_transformer_rf),\n",
    "    ('regressor', model_rf)\n",
    "])\n",
    "\n",
    "# Split the data into training and testing sets\n",
    "X_train_rf, X_test_rf, Y_train_rf, Y_test_rf = train_test_split(X, Y, test_size=0.2, random_state=42)\n",
    "\n",
    "# Fit the pipeline\n",
    "pipeline_rf.fit(X_train_rf, Y_train_rf)\n",
    "\n",
    "# Predictions\n",
    "Y_pred_rf = pipeline_rf.predict(X_test_rf)\n",
    "\n",
    "# Compute evaluation metrics\n",
    "mae_rf = mean_absolute_error(Y_test_rf, Y_pred_rf)\n",
    "mse_rf = mean_squared_error(Y_test_rf, Y_pred_rf)\n",
    "rmse_rf = np.sqrt(mse_rf)\n",
    "r2_rf = r2_score(Y_test_rf, Y_pred_rf)\n",
    "\n",
    "# Print evaluation metrics\n",
    "print(\"Random Forest Regression Results:\")\n",
    "print(\"Mean Absolute Error (MAE):\", mae_rf)\n",
    "print(\"Mean Squared Error (MSE):\", mse_rf)\n",
    "print(\"Root Mean Squared Error (RMSE):\", rmse_rf)\n",
    "print(\"R-squared (R2):\", r2_rf)"
   ]
  },
  {
   "cell_type": "code",
   "execution_count": null,
   "id": "93a6f93c-7356-4d2d-9a1e-b4695f0b90eb",
   "metadata": {},
   "outputs": [],
   "source": []
  }
 ],
 "metadata": {
  "kernelspec": {
   "display_name": "Python 3.8",
   "language": "python",
   "name": "python3"
  },
  "language_info": {
   "codemirror_mode": {
    "name": "ipython",
    "version": 3
   },
   "file_extension": ".py",
   "mimetype": "text/x-python",
   "name": "python",
   "nbconvert_exporter": "python",
   "pygments_lexer": "ipython3",
   "version": "3.8.6"
  }
 },
 "nbformat": 4,
 "nbformat_minor": 5
}
