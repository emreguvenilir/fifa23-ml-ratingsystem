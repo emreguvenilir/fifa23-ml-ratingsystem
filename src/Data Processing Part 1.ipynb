{
 "cells": [
  {
   "cell_type": "code",
   "execution_count": 1,
   "id": "e70385a1-eecb-49c0-bd9c-14ed8bd765bb",
   "metadata": {},
   "outputs": [
    {
     "name": "stderr",
     "output_type": "stream",
     "text": [
      "/tmp/ipykernel_353471/994629432.py:4: DtypeWarning: Columns (257,258,259,260,282,284,285,286,287,316) have mixed types. Specify dtype option on import or set low_memory=False.\n",
      "  combined_player_stats = pd.read_csv(\"combined_player_stats.csv\")\n"
     ]
    },
    {
     "name": "stdout",
     "output_type": "stream",
     "text": [
      "Number of instances before filtering: 101738\n",
      "Number of unique instances: 3317\n"
     ]
    }
   ],
   "source": [
    "import pandas as pd\n",
    "\n",
    "# Read the CSV file into a DataFrame\n",
    "combined_player_stats = pd.read_csv(\"combined_player_stats.csv\")\n",
    "\n",
    "# Print the number of instances in the DataFrame before filtering\n",
    "print(\"Number of instances before filtering:\", len(combined_player_stats))\n",
    "\n",
    "# Filter out duplicate rows based on the \"Player\" and \"Squad\" columns\n",
    "unique_player_stats = combined_player_stats.drop_duplicates(subset=[\"Player\", \"Squad\"])\n",
    "\n",
    "# Print the number of instances in the DataFrame after filtering\n",
    "print(\"Number of unique instances:\", len(unique_player_stats))\n",
    "\n",
    "# Write the unique DataFrame back to a CSV file if needed\n",
    "unique_player_stats.to_csv(\"unique_combined_player_stats.csv\", index=False)\n"
   ]
  },
  {
   "cell_type": "code",
   "execution_count": 7,
   "id": "ede0cbe9-dfba-48e1-9cc6-57efb7c53ddc",
   "metadata": {},
   "outputs": [
    {
     "name": "stdout",
     "output_type": "stream",
     "text": [
      "Index(['Season_End_Year.x', 'Squad.x', 'Comp.x', 'Player', 'Nation.x', 'Pos.x',\n",
      "       'Age.x', 'Born.x', 'MP_Playing.Time', 'Min_Playing.Time',\n",
      "       ...\n",
      "       'Att_Goal', 'Launch_percent_Goal', 'AvgLen_Goal', 'Opp_Crosses',\n",
      "       'Stp_Crosses', 'Stp_percent_Crosses', '#OPA_Sweeper',\n",
      "       '#OPA_per_90_Sweeper', 'AvgDist_Sweeper', 'Url'],\n",
      "      dtype='object', length=317)\n"
     ]
    }
   ],
   "source": [
    "# Print all column names\n",
    "print(unique_player_stats.columns)\n",
    "\n",
    "# Remove columns that start with \"Url\"\n",
    "filtered_player_stats = unique_player_stats.drop(columns=unique_player_stats.filter(regex=r'^Url').columns)\n",
    "# Keep only the first occurrence of specified columns\n",
    "filtered_player_stats = filtered_player_stats.drop_duplicates(subset=['Squad', 'Comp', 'Player', 'Nation', 'Pos', 'Age', 'Born'], keep='first')\n",
    "filtered_player_stats.to_csv(\"filtered_combined_player_stats.csv\", index=False)"
   ]
  },
  {
   "cell_type": "code",
   "execution_count": 9,
   "id": "b8ecf26a-4383-4e3d-ad8f-6369b24c2817",
   "metadata": {},
   "outputs": [
    {
     "name": "stdout",
     "output_type": "stream",
     "text": [
      "Number of columns: 306\n"
     ]
    }
   ],
   "source": [
    "num_cols = filtered_player_stats.shape[1]\n",
    "print(\"Number of columns:\", num_cols)"
   ]
  }
 ],
 "metadata": {
  "kernelspec": {
   "display_name": "Python 3.8",
   "language": "python",
   "name": "python3"
  },
  "language_info": {
   "codemirror_mode": {
    "name": "ipython",
    "version": 3
   },
   "file_extension": ".py",
   "mimetype": "text/x-python",
   "name": "python",
   "nbconvert_exporter": "python",
   "pygments_lexer": "ipython3",
   "version": "3.8.6"
  }
 },
 "nbformat": 4,
 "nbformat_minor": 5
}
